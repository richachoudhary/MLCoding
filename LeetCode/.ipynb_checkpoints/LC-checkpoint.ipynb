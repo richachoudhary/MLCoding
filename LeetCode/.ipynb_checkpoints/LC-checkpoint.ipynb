{
 "cells": [
  {
   "cell_type": "code",
   "execution_count": 1,
   "id": "73ecf758-be7b-4c8b-ad5d-5833d1e76e79",
   "metadata": {},
   "outputs": [
    {
     "name": "stdout",
     "output_type": "stream",
     "text": [
      "/Users/richa/Documents/DSA_03_April\n"
     ]
    }
   ],
   "source": [
    "!pwd"
   ]
  },
  {
   "cell_type": "code",
   "execution_count": 2,
   "id": "dcf798d7-4a5b-45c1-9452-4c58be3d95a3",
   "metadata": {},
   "outputs": [
    {
     "name": "stdout",
     "output_type": "stream",
     "text": [
      "[[4, 3], [11, 10]]\n"
     ]
    }
   ],
   "source": [
    "#Leetcode Past Apple questions \n",
    "def min_dist_pairs(arr): \n",
    "    arr.sort()\n",
    "    min_dist = float('inf')\n",
    "    for i in range(len(arr)-1):\n",
    "        min_dist = min(min_dist, arr[i+1]- arr[i]) \n",
    "    a= []\n",
    "    for i in range(len(arr)-1): \n",
    "        if arr[i+1]-arr[i]==min_dist: \n",
    "            a.append([arr[i+1], arr[i]])\n",
    "\n",
    "    return a \n",
    "print(min_dist_pairs([1, 3, 4, 6, 10, 11]))"
   ]
  },
  {
   "cell_type": "code",
   "execution_count": null,
   "id": "c36bca46-a8ad-4784-b566-277aedc332d1",
   "metadata": {},
   "outputs": [],
   "source": []
  }
 ],
 "metadata": {
  "kernelspec": {
   "display_name": "Python [conda env:base] *",
   "language": "python",
   "name": "conda-base-py"
  },
  "language_info": {
   "codemirror_mode": {
    "name": "ipython",
    "version": 3
   },
   "file_extension": ".py",
   "mimetype": "text/x-python",
   "name": "python",
   "nbconvert_exporter": "python",
   "pygments_lexer": "ipython3",
   "version": "3.12.7"
  }
 },
 "nbformat": 4,
 "nbformat_minor": 5
}
