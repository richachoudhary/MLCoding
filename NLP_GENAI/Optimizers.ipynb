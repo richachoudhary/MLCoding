{
 "cells": [
  {
   "cell_type": "code",
   "execution_count": null,
   "metadata": {},
   "outputs": [],
   "source": []
  },
  {
   "cell_type": "markdown",
   "metadata": {},
   "source": [
    "# SGD "
   ]
  },
  {
   "cell_type": "code",
   "execution_count": 1,
   "metadata": {},
   "outputs": [],
   "source": [
    "class Optimizers:\n",
    "  def __init__(self, learning_rate):\n",
    "    self.learning_rate = learning_rate\n",
    "    \n",
    "  def SGD(self,  params, grads):\n",
    "    \"\"\" Stochastic gradient descent \"\"\"\n",
    "    updated_params = []\n",
    "\n",
    "    for param, grad  in zip(params, grads):            \n",
    "        delta = self.learning_rate * grad\n",
    "        param -= delta \n",
    "\n",
    "        updated_params.apppend(\n",
    "          param\n",
    "        )\n",
    "\n",
    "    return updated_params"
   ]
  },
  {
   "cell_type": "code",
   "execution_count": null,
   "metadata": {},
   "outputs": [],
   "source": []
  }
 ],
 "metadata": {
  "kernelspec": {
   "display_name": "da_vinci",
   "language": "python",
   "name": "python3"
  },
  "language_info": {
   "codemirror_mode": {
    "name": "ipython",
    "version": 3
   },
   "file_extension": ".py",
   "mimetype": "text/x-python",
   "name": "python",
   "nbconvert_exporter": "python",
   "pygments_lexer": "ipython3",
   "version": "3.12.4"
  }
 },
 "nbformat": 4,
 "nbformat_minor": 2
}
