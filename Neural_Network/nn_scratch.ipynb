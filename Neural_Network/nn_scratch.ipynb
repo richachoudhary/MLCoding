{
 "cells": [
  {
   "cell_type": "code",
   "execution_count": 14,
   "id": "3b1a77b0-1eb4-4237-811a-3bf923af9db5",
   "metadata": {},
   "outputs": [
    {
     "data": {
      "text/plain": [
       "Value of the  object : \"4.0\""
      ]
     },
     "execution_count": 14,
     "metadata": {},
     "output_type": "execute_result"
    }
   ],
   "source": [
    "class Value : \n",
    "    def __init__(self, data, _children = (), _op = \"\"): \n",
    "        self.data = data\n",
    "        self._prev = set(_children)\n",
    "        self._op= _op\n",
    "    def __repr__(self): \n",
    "        return f'Value of the  object : \"{self.data}\"'\n",
    "    def __add__(self, other): \n",
    "        return Value(self.data + other.data, (self, other), _op = '+')\n",
    "    def __mul__(self, other): \n",
    "        return Value(self.data * other.data, (self, other), _op = '*')\n",
    "a= Value(2.0)\n",
    "b= Value(-3.0)\n",
    "c= Value(10)\n",
    "out = a* b +c\n",
    "out"
   ]
  },
  {
   "cell_type": "code",
   "execution_count": 15,
   "id": "84074b8f-9de3-403c-87b1-3cb26db7394c",
   "metadata": {},
   "outputs": [
    {
     "data": {
      "text/plain": [
       "({Value of the  object : \"-6.0\", Value of the  object : \"10\"}, '+')"
      ]
     },
     "execution_count": 15,
     "metadata": {},
     "output_type": "execute_result"
    }
   ],
   "source": [
    "out._prev, out._op"
   ]
  },
  {
   "cell_type": "code",
   "execution_count": null,
   "id": "4e1a525b-244c-40dc-b966-1fe9575dc532",
   "metadata": {},
   "outputs": [],
   "source": []
  }
 ],
 "metadata": {
  "kernelspec": {
   "display_name": "Python [conda env:base] *",
   "language": "python",
   "name": "conda-base-py"
  },
  "language_info": {
   "codemirror_mode": {
    "name": "ipython",
    "version": 3
   },
   "file_extension": ".py",
   "mimetype": "text/x-python",
   "name": "python",
   "nbconvert_exporter": "python",
   "pygments_lexer": "ipython3",
   "version": "3.12.7"
  }
 },
 "nbformat": 4,
 "nbformat_minor": 5
}
