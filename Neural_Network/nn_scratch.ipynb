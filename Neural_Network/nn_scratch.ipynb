{
 "cells": [
  {
   "cell_type": "code",
   "execution_count": 14,
   "id": "3b1a77b0-1eb4-4237-811a-3bf923af9db5",
   "metadata": {},
   "outputs": [
    {
     "data": {
      "text/plain": [
       "Value of the  object : \"4.0\""
      ]
     },
     "execution_count": 14,
     "metadata": {},
     "output_type": "execute_result"
    }
   ],
   "source": [
    "class Value : \n",
    "    def __init__(self, data, _children = (), _op = \"\"): \n",
    "        self.data = data\n",
    "        self._prev = set(_children)\n",
    "        self._op= _op\n",
    "    def __repr__(self): \n",
    "        return f'Value of the  object : \"{self.data}\"'\n",
    "    def __add__(self, other): \n",
    "        return Value(self.data + other.data, (self, other), _op = '+')\n",
    "    def __mul__(self, other): \n",
    "        return Value(self.data * other.data, (self, other), _op = '*')\n",
    "a= Value(2.0)\n",
    "b= Value(-3.0)\n",
    "c= Value(10)\n",
    "out = a* b +c\n",
    "out"
   ]
  },
  {
   "cell_type": "code",
   "execution_count": 15,
   "id": "84074b8f-9de3-403c-87b1-3cb26db7394c",
   "metadata": {},
   "outputs": [
    {
     "data": {
      "text/plain": [
       "({Value of the  object : \"-6.0\", Value of the  object : \"10\"}, '+')"
      ]
     },
     "execution_count": 15,
     "metadata": {},
     "output_type": "execute_result"
    }
   ],
   "source": [
    "out._prev, out._op"
   ]
  },
  {
   "cell_type": "code",
   "execution_count": null,
   "id": "4e1a525b-244c-40dc-b966-1fe9575dc532",
   "metadata": {},
   "outputs": [],
   "source": []
  },
  {
   "cell_type": "markdown",
   "id": "70e372fe-961a-4c82-ab72-08d72e4d866d",
   "metadata": {},
   "source": [
    "# [Perceptron::Forward Pass] Numpy implementation"
   ]
  },
  {
   "cell_type": "code",
   "execution_count": 10,
   "id": "78eafd89-aca1-4706-869e-28ed101d7329",
   "metadata": {},
   "outputs": [
    {
     "name": "stdout",
     "output_type": "stream",
     "text": [
      "Perceptron output 0.5914589784327801\n"
     ]
    }
   ],
   "source": [
    "import numpy as np\n",
    "class Perceptron : \n",
    "    def __init__(self, x, w, b, activation): \n",
    "        self.x= x\n",
    "        self.w= w\n",
    "        self.b = b \n",
    "        self.activation = activation \n",
    "\n",
    "    def activation_layer(self, x): \n",
    "        if self.activation=='sigmoid': \n",
    "            return (1/(1+np.exp(-x)))\n",
    "    def out_layer(self): \n",
    "        out = np.dot(self.w, self.x)+ self.b\n",
    "        return self.activation_layer(out)\n",
    "\n",
    "x= np.array([0.3, 0.5, 0.2])\n",
    "w= np.array([0.2, 0.3, 0.3])\n",
    "b= 0.1 \n",
    "mlp = Perceptron(x, w, b, \"sigmoid\")\n",
    "print(f\"Perceptron output {mlp.out_layer()}\")"
   ]
  },
  {
   "cell_type": "markdown",
   "id": "51c5b13f-4cc2-40da-93f4-31a120dc2d9e",
   "metadata": {},
   "source": [
    "# [Perceptron::Forward Pass] Pytorch implementation"
   ]
  },
  {
   "cell_type": "code",
   "execution_count": 14,
   "id": "4a816bdd-a87d-421d-912a-a81b8c464a56",
   "metadata": {},
   "outputs": [
    {
     "name": "stdout",
     "output_type": "stream",
     "text": [
      "Perceptron output 0.5914589762687683\n"
     ]
    }
   ],
   "source": [
    "import torch\n",
    "class Perceptron : \n",
    "    def __init__(self, x, w, b, activation): \n",
    "        self.x= x\n",
    "        self.w= w\n",
    "        self.b = b \n",
    "        self.activation = activation \n",
    "\n",
    "    def activation_layer(self, x): \n",
    "        if self.activation=='sigmoid': \n",
    "            return (1/(1+torch.exp(-x)))\n",
    "    def out_layer(self): \n",
    "        out = torch.dot(self.w, self.x)+ self.b\n",
    "        return self.activation_layer(out)\n",
    "\n",
    "x= torch.tensor([0.3, 0.5, 0.2])\n",
    "w= torch.tensor([0.2, 0.3, 0.3])\n",
    "b= torch.tensor(0.1) \n",
    "mlp = Perceptron(x, w, b, \"sigmoid\")\n",
    "print(f\"Perceptron output {mlp.out_layer()}\")"
   ]
  },
  {
   "cell_type": "markdown",
   "id": "d7fd7c34-808a-4874-b51d-9afa9638e8c8",
   "metadata": {},
   "source": [
    "# [Multi-Layer Perceptron::Forward Pass] Numpy implementation"
   ]
  },
  {
   "cell_type": "code",
   "execution_count": 23,
   "id": "fc9ddfdc-a923-4a62-a7aa-549f5056820b",
   "metadata": {},
   "outputs": [
    {
     "data": {
      "text/plain": [
       "array([[0.98874672, 0.99409157, 0.97995439]])"
      ]
     },
     "execution_count": 23,
     "metadata": {},
     "output_type": "execute_result"
    }
   ],
   "source": [
    "class MultiLayerPerceptron(): \n",
    "    def __init__(self, x, y): \n",
    "        self.x = x\n",
    "        self.y= y\n",
    "\n",
    "    def sigmoid(self, x): \n",
    "        return (1/(1+np.exp(-x)))\n",
    "    def relu(self, x): \n",
    "        return np.maximum(0, x)\n",
    "    def output(self, x, y): \n",
    "        w1= np.random.randn(3, 3)\n",
    "        b1 = np.random.randn(1, 3)\n",
    "        z1= np.dot(x, w1) + b1 # Layer 1 (1, 3)\n",
    "        a1= self.relu(z1)   # activation at layer 1\n",
    "        w2= np.random.rand(3, 1)\n",
    "        b2= np.random.randn(1, 3)\n",
    "        z2= np.dot(a1, w2) + b2 # Layer 2 (1, 3)\n",
    "        a2= self.sigmoid(z2)   # activation at layer 2\n",
    "        return a2\n",
    "\n",
    "\n",
    "np.random.seed(0)\n",
    "x= np.random.randn(1, 3)\n",
    "y = np.random.randn(1)\n",
    "mlp = MultiLayerPerceptron(x,y)\n",
    "mlp.output(x, y)"
   ]
  },
  {
   "cell_type": "markdown",
   "id": "62d8356a-96d5-41a9-9be5-dcb539cd99f3",
   "metadata": {},
   "source": [
    "# [Multi-Layer Perceptron::Forward Pass] Pytorch implementation"
   ]
  },
  {
   "cell_type": "code",
   "execution_count": 42,
   "id": "87837a64-3c63-4cfd-b80b-e208a8ada5a5",
   "metadata": {},
   "outputs": [
    {
     "name": "stdout",
     "output_type": "stream",
     "text": [
      "Perceptron output tensor([[0.6650, 0.9532, 0.0961, 0.1328]], grad_fn=<SigmoidBackward0>)\n"
     ]
    }
   ],
   "source": [
    "import torch\n",
    "import torch.nn.functional as F\n",
    "class Perceptron : \n",
    "    def __init__(self, x): \n",
    "        self.x= x\n",
    "    def forward_pass(self, x): \n",
    "        torch.manual_seed(0)\n",
    "        w1= torch.randn([3, 4], requires_grad= True )\n",
    "        b1= torch.randn([4], requires_grad= True)\n",
    "        w2= torch.randn([4, 4], requires_grad= True )\n",
    "        b2= torch.randn([1, 4], requires_grad= True)\n",
    "        z1= torch.matmul(x, w1) + b1 \n",
    "        a1= F.relu(z1)\n",
    "        z2= a1@ w2 + b2 \n",
    "        a2= F.sigmoid(z2)\n",
    "        return a2\n",
    "x= torch.tensor([[0.3, 0.5, 0.2]])\n",
    "mlp = Perceptron(x)\n",
    "print(f\"Perceptron output {mlp.forward_pass(x)}\")"
   ]
  },
  {
   "cell_type": "markdown",
   "id": "76bc3620-f64c-4337-82e3-3f153f527013",
   "metadata": {},
   "source": [
    "# [Code] NumPy: Full Training Loop with Backprop\n"
   ]
  },
  {
   "cell_type": "code",
   "execution_count": 83,
   "id": "d321d4c6-5c82-49ec-9a28-a73f4f6936c3",
   "metadata": {},
   "outputs": [
    {
     "name": "stdout",
     "output_type": "stream",
     "text": [
      "loss at epoch 0 = 1.3818735736922512)\n",
      "loss at epoch 100 = 0.6952459232859833)\n",
      "loss at epoch 200 = 0.6893374045178133)\n",
      "loss at epoch 300 = 0.6874487225577659)\n",
      "loss at epoch 400 = 0.6871377281101588)\n",
      "loss at epoch 500 = 0.6861984525724985)\n",
      "loss at epoch 600 = 0.685522624215662)\n",
      "loss at epoch 700 = 0.6854051220509593)\n",
      "loss at epoch 800 = 0.6853078006907443)\n",
      "loss at epoch 900 = 0.6852045040299594)\n"
     ]
    },
    {
     "data": {
      "image/png": "[encoded data removed]",
      "text/plain": [
       "<Figure size 640x480 with 1 Axes>"
      ]
     },
     "metadata": {},
     "output_type": "display_data"
    }
   ],
   "source": [
    "class MultiLayerPerceptron(): \n",
    "    def __init__(self, x, y, epoch, lr): \n",
    "        self.x = x\n",
    "        self.y= y\n",
    "        self.epoch = epoch\n",
    "        self.lr = lr\n",
    "\n",
    "    def sigmoid(self, x): \n",
    "        return (1/(1+np.exp(-x)))\n",
    "    def relu(self, x): \n",
    "        return np.maximum(0, x)\n",
    "    def BinaryCrossEntropy(self, y_pred, y_true): \n",
    "        eps=1e-8\n",
    "        return -np.mean(y_true*np.log(y_pred+eps)+ (1-y_true)*np.log(1-y_pred+eps))\n",
    "    def relu_derivative(self, x): \n",
    "        return (x>0).astype(float)\n",
    "    def output(self, x, y): \n",
    "        losses= []\n",
    "        # forwardprop\n",
    "        # Params\n",
    "        # input_size, hidden_size, output_size = 3, 3, 1\n",
    "        # W1 = np.random.randn(input_size, hidden_size)      # (3, 4)\n",
    "        # b1 = np.zeros((1, hidden_size))                    # (1, 4)\n",
    "        # W2 = np.random.randn(hidden_size, output_size)     # (4, 1)\n",
    "        # b2 = np.zeros((1, output_size))                    # (1, 1)\n",
    "        w1= np.random.randn(3, 3)\n",
    "        b1 = np.random.randn(1, 3)\n",
    "        w2= np.random.rand(3, 1)\n",
    "        b2= np.random.randn(1, 1)\n",
    "\n",
    "        \n",
    "        for i in range(self.epoch):  \n",
    "            z1= np.dot(x, w1) + b1 # Layer 1 (1, 3)\n",
    "            a1= self.relu(z1)   # activation at layer 1\n",
    "    \n",
    "            z2= np.dot(a1, w2) + b2 # Layer 2 (1, 3)\n",
    "            a2= self.sigmoid(z2)   # activation at layer 2\n",
    "\n",
    "            # loss \n",
    "            loss = self.BinaryCrossEntropy(a2, y)\n",
    "            losses.append(loss)\n",
    "            if i%100==0: \n",
    "                print(f\"loss at epoch {i} = {loss})\")\n",
    "            \n",
    "            #backwardprop \n",
    "            delta2 = a2-y \n",
    "            dw2= (a1.T@delta2)/a1.shape[0]\n",
    "            db2= np.mean(delta2, axis= 0, keepdims= True)\n",
    "    \n",
    "            delta1= (delta2@w2.T)*self.relu_derivative(z1)\n",
    "            dw1= (x.T@delta1)/x.shape[0]\n",
    "            db1 = np.mean(delta1, axis= 0, keepdims= True)\n",
    "    \n",
    "            # update weigts \n",
    "            w2-=self.lr*dw2\n",
    "            b2-=self.lr*db2\n",
    "            w1-=self.lr*dw1\n",
    "            b1-=self.lr*db1\n",
    "        import matplotlib.pyplot as plt\n",
    "        plt.plot(losses)\n",
    "        plt.title(\"Training Loss (NumPy MLP)\")\n",
    "        plt.xlabel(\"Epoch\")\n",
    "        plt.ylabel(\"Loss\")\n",
    "        plt.grid(True)\n",
    "        plt.show()\n",
    "\n",
    "np.random.seed(42)\n",
    "x= np.random.randn(100, 3)\n",
    "y = np.random.rand(100, 1)\n",
    "mlp = MultiLayerPerceptron(x,y, 1000, 0.1)\n",
    "losses = mlp.output(x, y)"
   ]
  },
  {
   "cell_type": "markdown",
   "id": "8aa0f275-b8fd-49c9-b3b0-0f417922407c",
   "metadata": {},
   "source": [
    "# [Code] PyTorch (no nn module)\n"
   ]
  },
  {
   "cell_type": "code",
   "execution_count": null,
   "id": "f29cc85d-2141-40b4-835c-9646e0c4e241",
   "metadata": {},
   "outputs": [],
   "source": []
  }
 ],
 "metadata": {
  "kernelspec": {
   "display_name": "Python [conda env:base] *",
   "language": "python",
   "name": "conda-base-py"
  },
  "language_info": {
   "codemirror_mode": {
    "name": "ipython",
    "version": 3
   },
   "file_extension": ".py",
   "mimetype": "text/x-python",
   "name": "python",
   "nbconvert_exporter": "python",
   "pygments_lexer": "ipython3",
   "version": "3.12.7"
  }
 },
 "nbformat": 4,
 "nbformat_minor": 5
}
