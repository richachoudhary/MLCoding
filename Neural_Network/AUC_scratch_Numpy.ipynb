{
 "cells": [
  {
   "cell_type": "code",
   "execution_count": 43,
   "metadata": {},
   "outputs": [
    {
     "name": "stdout",
     "output_type": "stream",
     "text": [
      "/Users/richa/Documents/DSA_03_April/dsa\n"
     ]
    }
   ],
   "source": [
    "!pwd"
   ]
  },
  {
   "cell_type": "code",
   "execution_count": 39,
   "metadata": {},
   "outputs": [
    {
     "name": "stdout",
     "output_type": "stream",
     "text": [
      "AUC: 0.875\n"
     ]
    }
   ],
   "source": [
    "import numpy as np\n",
    "\n",
    "def auc(y, y_pred_scores): \n",
    "    y_pred_scores = np.array(y_pred_scores)\n",
    "    y = np.array(y)\n",
    "    \n",
    "    thresholds = np.arange(0, 1.01, 0.1)\n",
    "    tpr = []\n",
    "    fpr = []\n",
    "\n",
    "    for thresh in thresholds: \n",
    "        y_pred = np.where(y_pred_scores > thresh, 1, 0)\n",
    "        \n",
    "        tp = np.sum((y_pred == 1) & (y == 1))\n",
    "        fn = np.sum((y_pred == 0) & (y == 1))\n",
    "        fp = np.sum((y_pred == 1) & (y == 0))\n",
    "        tn = np.sum((y_pred == 0) & (y == 0))\n",
    "        \n",
    "        # Avoid division by zero\n",
    "        tpr_val = tp / (tp + fn) if (tp + fn) != 0 else 0\n",
    "        fpr_val = fp / (fp + tn) if (fp + tn) != 0 else 0\n",
    "        \n",
    "        tpr.append(tpr_val)\n",
    "        fpr.append(fpr_val)\n",
    "\n",
    "    # Sort FPR and TPR together based on FPR\n",
    "    fpr, tpr = zip(*sorted(zip(fpr, tpr)))\n",
    "\n",
    "    # Compute AUC using trapezoidal rule\n",
    "    auc_score = np.trapz(tpr, fpr)\n",
    "    \n",
    "    return auc_score\n",
    "y_true = [0, 0, 1, 1]\n",
    "y_scores = [0.1, 0.4, 0.35, 0.8]\n",
    "\n",
    "print(\"AUC:\", auc(y_true, y_scores))  # Should be close to 0.75\n"
   ]
  },
  {
   "cell_type": "code",
   "execution_count": null,
   "metadata": {},
   "outputs": [],
   "source": []
  }
 ],
 "metadata": {
  "kernelspec": {
   "display_name": "Python [conda env:base] *",
   "language": "python",
   "name": "conda-base-py"
  },
  "language_info": {
   "codemirror_mode": {
    "name": "ipython",
    "version": 3
   },
   "file_extension": ".py",
   "mimetype": "text/x-python",
   "name": "python",
   "nbconvert_exporter": "python",
   "pygments_lexer": "ipython3",
   "version": "3.12.7"
  }
 },
 "nbformat": 4,
 "nbformat_minor": 4
}
