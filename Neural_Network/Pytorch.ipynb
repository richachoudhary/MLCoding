{
 "cells": [
  {
   "cell_type": "code",
   "execution_count": 1,
   "metadata": {
    "colab": {
     "base_uri": "https://localhost:8080/"
    },
    "id": "anLpFs40UYev",
    "outputId": "d2f4a038-a3b4-4fd9-a3d2-b25ee5c0ac9b"
   },
   "outputs": [
    {
     "name": "stdout",
     "output_type": "stream",
     "text": [
      "PyTorch is already installed.\n"
     ]
    }
   ],
   "source": [
    "# prompt: import pytorch or install it first and import it\n",
    "\n",
    "try:\n",
    "  import torch\n",
    "  print(\"PyTorch is already installed.\")\n",
    "except:\n",
    "  print(\"PyTorch is not installed. Installing now.\")\n",
    "  !pip install torch torchvision torchaudio\n",
    "  import torch\n",
    "  print(\"PyTorch installed successfully.\")"
   ]
  },
  {
   "cell_type": "code",
   "execution_count": 2,
   "metadata": {
    "colab": {
     "base_uri": "https://localhost:8080/",
     "height": 35
    },
    "id": "pfwBYm2NUm3J",
    "outputId": "ec9548d0-8969-48bc-e6a2-aac744e4a5b8"
   },
   "outputs": [
    {
     "data": {
      "application/vnd.google.colaboratory.intrinsic+json": {
       "type": "string"
      },
      "text/plain": [
       "'2.6.0+cu124'"
      ]
     },
     "execution_count": 2,
     "metadata": {},
     "output_type": "execute_result"
    }
   ],
   "source": [
    "# prompt: print its version\n",
    "\n",
    "torch.__version__"
   ]
  },
  {
   "cell_type": "code",
   "execution_count": 4,
   "metadata": {
    "colab": {
     "base_uri": "https://localhost:8080/"
    },
    "id": "_qOxaP-xVKP5",
    "outputId": "8e714044-2084-4c47-9b58-2497b5b36d9c"
   },
   "outputs": [
    {
     "data": {
      "text/plain": [
       "tensor([[0.6376, 0.3877, 0.7083, 0.7028, 0.0716, 0.8720, 0.7015, 0.0229, 0.0224,\n",
       "         0.8555, 0.7353, 0.2372, 0.0651, 0.4687, 0.0928, 0.5462, 0.4914, 0.0469,\n",
       "         0.2397, 0.0139, 0.7153, 0.3563, 0.0401, 0.2731, 0.3355, 0.7089, 0.2064,\n",
       "         0.8610, 0.6608, 0.3225, 0.9751, 0.0973, 0.7404, 0.2951, 0.5906, 0.7136,\n",
       "         0.1496, 0.6254, 0.2256, 0.0377, 0.3803, 0.2080, 0.6969, 0.9990, 0.0840],\n",
       "        [0.7922, 0.7105, 0.6041, 0.1225, 0.0294, 0.7868, 0.6970, 0.2253, 0.2482,\n",
       "         0.6291, 0.8046, 0.4581, 0.8785, 0.6433, 0.2417, 0.2480, 0.6424, 0.7183,\n",
       "         0.0239, 0.6264, 0.8596, 0.2369, 0.5667, 0.0307, 0.8499, 0.8797, 0.9162,\n",
       "         0.6527, 0.7073, 0.2032, 0.8427, 0.5764, 0.9337, 0.8393, 0.5017, 0.1322,\n",
       "         0.6811, 0.1289, 0.2361, 0.6718, 0.4499, 0.2722, 0.2304, 0.9150, 0.2863],\n",
       "        [0.5089, 0.8167, 0.3853, 0.4297, 0.9605, 0.2697, 0.8794, 0.9534, 0.2853,\n",
       "         0.3594, 0.7016, 0.7526, 0.9493, 0.4222, 0.8126, 0.5090, 0.4095, 0.5747,\n",
       "         0.6833, 0.4789, 0.2448, 0.5506, 0.5966, 0.9058, 0.2455, 0.9193, 0.6533,\n",
       "         0.7566, 0.3396, 0.3698, 0.1016, 0.3059, 0.7387, 0.6070, 0.5451, 0.5007,\n",
       "         0.9714, 0.8205, 0.4741, 0.3153, 0.2046, 0.4661, 0.2080, 0.5871, 0.9137]])"
      ]
     },
     "execution_count": 4,
     "metadata": {},
     "output_type": "execute_result"
    }
   ],
   "source": [
    "import torch\n",
    "'''The output is a PyTorch tensor. It's a multi-dimensional array of numbers.\n",
    " In this case, it's a 3x45 tensor, meaning it has 3 rows and 45 columns,\n",
    "  filled with random numbers between 0 and 1.'''\n",
    "torch.rand(3, 45)\n"
   ]
  },
  {
   "cell_type": "code",
   "execution_count": 5,
   "metadata": {
    "colab": {
     "base_uri": "https://localhost:8080/"
    },
    "id": "W-t97TigVKSL",
    "outputId": "f995f050-a586-4f34-8485-4cfe1be825cb"
   },
   "outputs": [
    {
     "data": {
      "text/plain": [
       "tensor([[1., 2., 3.],\n",
       "        [3., 4., 5.]])"
      ]
     },
     "execution_count": 5,
     "metadata": {},
     "output_type": "execute_result"
    }
   ],
   "source": [
    "my_tensor = torch.tensor([[1, 2, 3], [3, 4, 5]], dtype= torch.float32)\n",
    "my_tensor"
   ]
  },
  {
   "cell_type": "code",
   "execution_count": 2,
   "metadata": {
    "colab": {
     "base_uri": "https://localhost:8080/"
    },
    "id": "f1807c66",
    "outputId": "689b9e56-4da4-4a35-df91-29525692655d"
   },
   "outputs": [
    {
     "name": "stdout",
     "output_type": "stream",
     "text": [
      "True\n"
     ]
    }
   ],
   "source": [
    "import torch\n",
    "print(torch.cuda.is_available())"
   ]
  },
  {
   "cell_type": "code",
   "execution_count": 3,
   "metadata": {
    "colab": {
     "base_uri": "https://localhost:8080/"
    },
    "id": "FxEOf5GmXuwO",
    "outputId": "c692666a-cb8a-4b04-c506-6aac512c28f4"
   },
   "outputs": [
    {
     "data": {
      "text/plain": [
       "tensor([[1., 2., 3.],\n",
       "        [3., 4., 5.]], device='cuda:0', requires_grad=True)"
      ]
     },
     "execution_count": 3,
     "metadata": {},
     "output_type": "execute_result"
    }
   ],
   "source": [
    "my_tensor = torch.tensor([[1, 2, 3], [3, 4, 5]], dtype= torch.float32, device= \"cuda\", requires_grad=True)\n",
    "my_tensor"
   ]
  },
  {
   "cell_type": "code",
   "execution_count": 4,
   "metadata": {
    "colab": {
     "base_uri": "https://localhost:8080/"
    },
    "id": "qYMfrSFwX3Uv",
    "outputId": "6a9ab822-8270-4dac-ef9e-f08c8a377e0e"
   },
   "outputs": [
    {
     "data": {
      "text/plain": [
       "(device(type='cuda', index=0), torch.Size([2, 3]))"
      ]
     },
     "execution_count": 4,
     "metadata": {},
     "output_type": "execute_result"
    }
   ],
   "source": [
    "my_tensor.device, my_tensor.shape"
   ]
  },
  {
   "cell_type": "code",
   "execution_count": 5,
   "metadata": {
    "colab": {
     "base_uri": "https://localhost:8080/"
    },
    "id": "MOh-fwawafoB",
    "outputId": "36db48dd-1690-42b6-d0b8-c5b5e995a7dc"
   },
   "outputs": [
    {
     "name": "stdout",
     "output_type": "stream",
     "text": [
      "torch.ones((3,3))\n",
      " tensor([[1., 1., 1.],\n",
      "        [1., 1., 1.],\n",
      "        [1., 1., 1.]])\n",
      "torch.eye((3,3))\n",
      " tensor([[1., 0., 0.],\n",
      "        [0., 1., 0.],\n",
      "        [0., 0., 1.]])\n",
      "torch.zeroes((3,3))\n",
      " tensor([[0., 0., 0.],\n",
      "        [0., 0., 0.],\n",
      "        [0., 0., 0.]])\n",
      "torch.rand((3,3))\n",
      " tensor([[0.9590, 0.1700, 0.1176],\n",
      "        [0.9655, 0.4229, 0.7727],\n",
      "        [0.8834, 0.4766, 0.2751]])\n",
      "torch.empty((3,3))\n",
      " tensor([[1.8032e+23, 4.4693e-41, 1.8032e+23],\n",
      "        [4.4693e-41, 3.5762e-25, 0.0000e+00],\n",
      "        [0.0000e+00, 0.0000e+00, 0.0000e+00]])\n",
      "torch.diag((3,3))\n",
      " tensor([[1., 0., 0.],\n",
      "        [0., 1., 0.],\n",
      "        [0., 0., 1.]])\n"
     ]
    }
   ],
   "source": [
    "print(\"torch.ones((3,3))\\n\", torch.ones((3, 3)))\n",
    "print(\"torch.eye((3,3))\\n\", torch.eye(3, 3))\n",
    "print(\"torch.zeroes((3,3))\\n\", torch.zeros((3, 3)))\n",
    "print(\"torch.rand((3,3))\\n\", torch.rand((3, 3)))\n",
    "print(\"torch.empty((3,3))\\n\", torch.empty(size= (3, 3)))\n",
    "print(\"torch.diag((3,3))\\n\", torch.diag(torch.ones(3)))"
   ]
  },
  {
   "cell_type": "code",
   "execution_count": 12,
   "metadata": {
    "colab": {
     "base_uri": "https://localhost:8080/"
    },
    "id": "xpmQgkFbpWkU",
    "outputId": "bbf917f6-2ff6-45c9-a009-b0d2fa17e63d"
   },
   "outputs": [
    {
     "name": "stdout",
     "output_type": "stream",
     "text": [
      "tensor([0, 1, 2])\n",
      "tensor([0, 1, 2])\n",
      "tensor([0., 1., 2.], dtype=torch.float16)\n",
      "tensor([0., 1., 2.])\n"
     ]
    }
   ],
   "source": [
    "tensor = torch.arange(3)\n",
    "print(tensor)\n",
    "print(tensor.long())\n",
    "print(tensor.half())\n",
    "print(tensor.float())\n"
   ]
  },
  {
   "cell_type": "code",
   "execution_count": 17,
   "metadata": {
    "colab": {
     "base_uri": "https://localhost:8080/"
    },
    "id": "8wCy6LjBVrZL",
    "outputId": "1d6394c6-805a-4a3f-b103-a6d1f3069e29"
   },
   "outputs": [
    {
     "name": "stdout",
     "output_type": "stream",
     "text": [
      "tensor([[0., 0., 0.]], dtype=torch.float64)\n",
      "[[0. 0. 0.]]\n"
     ]
    }
   ],
   "source": [
    "import numpy as np\n",
    "arr= np.zeros((1, 3))\n",
    "tensor = torch.from_numpy(arr)\n",
    "print(tensor)\n",
    "back_to_np = tensor.numpy()\n",
    "print(back_to_np)"
   ]
  },
  {
   "cell_type": "code",
   "execution_count": 18,
   "metadata": {
    "colab": {
     "base_uri": "https://localhost:8080/"
    },
    "id": "EUEGWl00WQ27",
    "outputId": "d6c0831d-aa1f-4345-8e7b-6b79da27b131"
   },
   "outputs": [
    {
     "name": "stdout",
     "output_type": "stream",
     "text": [
      "tensor([5., 7., 9.])\n",
      "tensor([5, 7, 9])\n"
     ]
    }
   ],
   "source": [
    "x= torch.tensor([1, 2, 3])\n",
    "y= torch.tensor([4, 5, 6])\n",
    "z1= torch.empty(3)\n",
    "torch.add(x, y, out= z1)\n",
    "print(z1)\n",
    "z2= torch.add(x, y)\n",
    "print(z2)"
   ]
  },
  {
   "cell_type": "code",
   "execution_count": 21,
   "metadata": {
    "colab": {
     "base_uri": "https://localhost:8080/"
    },
    "id": "rw_PjdfyYuvU",
    "outputId": "3e0b118c-3d9d-466a-ea64-dbdf4519d9dd"
   },
   "outputs": [
    {
     "name": "stdout",
     "output_type": "stream",
     "text": [
      "tensor([ 4, 10, 18])\n",
      "tensor(32)\n"
     ]
    }
   ],
   "source": [
    "print(x*y)\n",
    "# dot will element-wise multiply and then add\n",
    "print(torch.dot(x, y))"
   ]
  },
  {
   "cell_type": "code",
   "execution_count": 25,
   "metadata": {
    "colab": {
     "base_uri": "https://localhost:8080/"
    },
    "id": "xak7oh68a19Z",
    "outputId": "32dd784b-c5bb-4a7c-a677-d8a79f86e5b3"
   },
   "outputs": [
    {
     "name": "stdout",
     "output_type": "stream",
     "text": [
      "tensor([[0.9782, 0.7413, 0.2753, 0.0467, 0.6866],\n",
      "        [0.2673, 0.9578, 0.6481, 0.9817, 0.3700],\n",
      "        [0.9456, 0.5415, 0.4750, 0.7065, 0.0543],\n",
      "        [0.3676, 0.9871, 0.5851, 0.0298, 0.6395],\n",
      "        [0.3357, 0.6892, 0.6281, 0.8981, 0.7363]])\n",
      "tensor([[4.5405, 6.5693, 4.3250, 4.4798, 4.1087],\n",
      "        [5.1560, 7.5189, 5.0102, 5.3708, 4.4209],\n",
      "        [4.3828, 6.0564, 3.9709, 4.4195, 3.7557],\n",
      "        [4.3758, 6.4731, 4.2397, 4.1318, 3.8845],\n",
      "        [5.2996, 7.6966, 5.1387, 5.4869, 4.6044]])\n"
     ]
    }
   ],
   "source": [
    "matrx = torch.rand(5, 5)\n",
    "print(matrx)\n",
    "print(matrx.matrix_power(3))"
   ]
  },
  {
   "cell_type": "code",
   "execution_count": null,
   "metadata": {
    "id": "Pv2WqoeQbHff"
   },
   "outputs": [],
   "source": []
  },
  {
   "cell_type": "code",
   "execution_count": 30,
   "metadata": {
    "colab": {
     "base_uri": "https://localhost:8080/"
    },
    "id": "jKSnOFDWcKh0",
    "outputId": "d85d45dc-a22b-4cef-e474-db8db757c09a"
   },
   "outputs": [
    {
     "data": {
      "text/plain": [
       "tensor([ 0,  2,  4,  6,  8, 10,  6,  7,  8,  9])"
      ]
     },
     "execution_count": 30,
     "metadata": {},
     "output_type": "execute_result"
    }
   ],
   "source": [
    "x= torch.arange(10)\n",
    "x[(x<2) | (x>8)]\n",
    "torch.where((x>5), x, x*2)"
   ]
  },
  {
   "cell_type": "code",
   "execution_count": 36,
   "metadata": {
    "colab": {
     "base_uri": "https://localhost:8080/"
    },
    "id": "1cf43020",
    "outputId": "cc113a14-0c5a-4fb1-c060-ce532eaefaa8"
   },
   "outputs": [
    {
     "data": {
      "text/plain": [
       "torch.Size([2, 8])"
      ]
     },
     "execution_count": 36,
     "metadata": {},
     "output_type": "execute_result"
    }
   ],
   "source": [
    "x= torch.rand((2, 4))\n",
    "y = torch.rand((2, 4))\n",
    "z= torch.cat((x, y), dim = 1)\n",
    "z.shape"
   ]
  },
  {
   "cell_type": "code",
   "execution_count": 38,
   "metadata": {
    "colab": {
     "base_uri": "https://localhost:8080/"
    },
    "id": "IxUa3GN8okIK",
    "outputId": "f9aa409f-fcce-432f-f6f4-d2db0aa9cefa"
   },
   "outputs": [
    {
     "data": {
      "text/plain": [
       "tensor([0.7035, 0.8561, 0.6150, 0.3352, 0.3045, 0.6032, 0.1159, 0.7918, 0.4218,\n",
       "        0.0725, 0.7954, 0.5528, 0.7977, 0.8974, 0.4051, 0.3770])"
      ]
     },
     "execution_count": 38,
     "metadata": {},
     "output_type": "execute_result"
    }
   ],
   "source": [
    "z.view(-1)"
   ]
  },
  {
   "cell_type": "code",
   "execution_count": 48,
   "metadata": {
    "colab": {
     "base_uri": "https://localhost:8080/"
    },
    "id": "tk9og3o3pgdl",
    "outputId": "511b1c87-608d-4f6f-8e87-c5adb952c12e"
   },
   "outputs": [
    {
     "data": {
      "text/plain": [
       "torch.Size([64, 2, 5])"
      ]
     },
     "execution_count": 48,
     "metadata": {},
     "output_type": "execute_result"
    }
   ],
   "source": [
    "batch = 64\n",
    "x = torch.rand((batch, 2, 5))\n",
    "x.shape"
   ]
  },
  {
   "cell_type": "code",
   "execution_count": 47,
   "metadata": {
    "colab": {
     "base_uri": "https://localhost:8080/"
    },
    "id": "Nh-CRsfoo0Rm",
    "outputId": "e2a0b3f3-64dc-4c3d-e02a-7b90023b8280"
   },
   "outputs": [
    {
     "data": {
      "text/plain": [
       "torch.Size([64, 10])"
      ]
     },
     "execution_count": 47,
     "metadata": {},
     "output_type": "execute_result"
    }
   ],
   "source": [
    "x.view(batch , -1).shape"
   ]
  },
  {
   "cell_type": "code",
   "execution_count": 50,
   "metadata": {
    "colab": {
     "base_uri": "https://localhost:8080/"
    },
    "id": "VqIFLN2JpRGC",
    "outputId": "df9eb3a9-ae6a-4ebf-c927-f869fb7b4d9c"
   },
   "outputs": [
    {
     "data": {
      "text/plain": [
       "torch.Size([64, 5, 2])"
      ]
     },
     "execution_count": 50,
     "metadata": {},
     "output_type": "execute_result"
    }
   ],
   "source": [
    "x.permute(0, 2 , 1).shape"
   ]
  },
  {
   "cell_type": "code",
   "execution_count": 56,
   "metadata": {
    "colab": {
     "base_uri": "https://localhost:8080/"
    },
    "id": "LWm9JQdkqaTR",
    "outputId": "af9ebcbc-1233-4098-9740-55d1430be27b"
   },
   "outputs": [
    {
     "name": "stdout",
     "output_type": "stream",
     "text": [
      "torch.Size([10])\n"
     ]
    },
    {
     "data": {
      "text/plain": [
       "torch.Size([1, 10])"
      ]
     },
     "execution_count": 56,
     "metadata": {},
     "output_type": "execute_result"
    }
   ],
   "source": [
    "x= torch.arange(10)\n",
    "print(x.shape)\n",
    "x.unsqueeze(0).shape"
   ]
  },
  {
   "cell_type": "code",
   "execution_count": 55,
   "metadata": {
    "colab": {
     "base_uri": "https://localhost:8080/"
    },
    "id": "fbjqBI0brp-8",
    "outputId": "e1faa87a-0fb4-4ee4-90fc-23b90d8c3add"
   },
   "outputs": [
    {
     "data": {
      "text/plain": [
       "torch.Size([10, 1])"
      ]
     },
     "execution_count": 55,
     "metadata": {},
     "output_type": "execute_result"
    }
   ],
   "source": [
    "x.unsqueeze(1).shape"
   ]
  },
  {
   "cell_type": "code",
   "execution_count": 57,
   "metadata": {
    "colab": {
     "base_uri": "https://localhost:8080/"
    },
    "id": "ngKm2DsbsQgl",
    "outputId": "b480af1b-3f0d-43f5-8a81-e8ad8396f644"
   },
   "outputs": [
    {
     "data": {
      "text/plain": [
       "torch.Size([1, 1, 10])"
      ]
     },
     "execution_count": 57,
     "metadata": {},
     "output_type": "execute_result"
    }
   ],
   "source": [
    "x.unsqueeze(0).unsqueeze(1).shape"
   ]
  },
  {
   "cell_type": "code",
   "execution_count": null,
   "metadata": {
    "id": "YiObAB-AskuZ"
   },
   "outputs": [],
   "source": []
  }
 ],
 "metadata": {
  "accelerator": "GPU",
  "colab": {
   "gpuType": "T4",
   "provenance": [],
   "toc_visible": true
  },
  "kernelspec": {
   "display_name": "Python [conda env:base] *",
   "language": "python",
   "name": "conda-base-py"
  },
  "language_info": {
   "codemirror_mode": {
    "name": "ipython",
    "version": 3
   },
   "file_extension": ".py",
   "mimetype": "text/x-python",
   "name": "python",
   "nbconvert_exporter": "python",
   "pygments_lexer": "ipython3",
   "version": "3.12.7"
  }
 },
 "nbformat": 4,
 "nbformat_minor": 4
}
