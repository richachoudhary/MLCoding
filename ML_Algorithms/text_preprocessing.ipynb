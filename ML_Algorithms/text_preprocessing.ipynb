{
 "cells": [
  {
   "cell_type": "code",
   "execution_count": 8,
   "id": "b23bdfcc-fe80-4132-b6c5-fe5128e82593",
   "metadata": {},
   "outputs": [
    {
     "data": {
      "text/plain": [
       "'<html>.? hi i am richa.<>'"
      ]
     },
     "execution_count": 8,
     "metadata": {},
     "output_type": "execute_result"
    }
   ],
   "source": [
    "import re\n",
    "\n",
    "s= \"<html></br>.? hi i am richa.<>\"\n",
    "pattern = re.compile('</br>')\n",
    "pattern.sub(r'', s)"
   ]
  },
  {
   "cell_type": "code",
   "execution_count": 6,
   "id": "56035dc6-15c0-4610-a626-37f186470206",
   "metadata": {},
   "outputs": [
    {
     "data": {
      "text/plain": [
       "'dhdg h khrgehg '"
      ]
     },
     "execution_count": 6,
     "metadata": {},
     "output_type": "execute_result"
    }
   ],
   "source": [
    "pattern = re.compile('dhgd h')\n",
    "pattern.sub(r'', \"dhdg h khrgehg \")\n"
   ]
  },
  {
   "cell_type": "code",
   "execution_count": null,
   "id": "523e69e5-9cd0-4b36-a59b-fed6626a42d9",
   "metadata": {},
   "outputs": [],
   "source": []
  }
 ],
 "metadata": {
  "kernelspec": {
   "display_name": "Python [conda env:base] *",
   "language": "python",
   "name": "conda-base-py"
  },
  "language_info": {
   "codemirror_mode": {
    "name": "ipython",
    "version": 3
   },
   "file_extension": ".py",
   "mimetype": "text/x-python",
   "name": "python",
   "nbconvert_exporter": "python",
   "pygments_lexer": "ipython3",
   "version": "3.12.7"
  }
 },
 "nbformat": 4,
 "nbformat_minor": 5
}
