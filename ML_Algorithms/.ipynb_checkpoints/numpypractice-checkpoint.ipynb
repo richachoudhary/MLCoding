{
 "cells": [
  {
   "cell_type": "code",
   "execution_count": 1,
   "id": "f7d78f06-2eb1-42e1-9214-3fb8405e3cab",
   "metadata": {},
   "outputs": [],
   "source": [
    "import numpy as np"
   ]
  },
  {
   "cell_type": "code",
   "execution_count": 6,
   "id": "9a8110b4-ad48-4c93-aeb4-ec8d93bdc96f",
   "metadata": {},
   "outputs": [
    {
     "name": "stdout",
     "output_type": "stream",
     "text": [
      "[1 2 3] <class 'numpy.ndarray'>\n"
     ]
    }
   ],
   "source": [
    "a= [1, 2, 3]\n",
    "print(np.array(a), type(np.array(a)))"
   ]
  },
  {
   "cell_type": "code",
   "execution_count": 8,
   "id": "77993b8f-bf1e-4897-bf66-d61e3ade4912",
   "metadata": {},
   "outputs": [
    {
     "data": {
      "text/plain": [
       "(1, [1, 2])"
      ]
     },
     "execution_count": 8,
     "metadata": {},
     "output_type": "execute_result"
    }
   ],
   "source": [
    "a[0], a[:2]"
   ]
  },
  {
   "cell_type": "code",
   "execution_count": 9,
   "id": "8703fc9e-9490-4d98-a3fd-4ea2ed28a39e",
   "metadata": {},
   "outputs": [
    {
     "data": {
      "text/plain": [
       "array([[ 1,  2,  3,  4],\n",
       "       [ 5,  6,  7,  8],\n",
       "       [ 9, 10, 11, 12]])"
      ]
     },
     "execution_count": 9,
     "metadata": {},
     "output_type": "execute_result"
    }
   ],
   "source": [
    "a = np.array([[1, 2, 3, 4], [5, 6, 7, 8], [9, 10, 11, 12]])\n",
    "a"
   ]
  },
  {
   "cell_type": "code",
   "execution_count": 13,
   "id": "58d632c7-adbf-4af3-9892-0f1fd60ab566",
   "metadata": {},
   "outputs": [
    {
     "data": {
      "text/plain": [
       "array([[1, 2, 3],\n",
       "       [2, 4, 6],\n",
       "       [3, 6, 9]])"
      ]
     },
     "execution_count": 13,
     "metadata": {},
     "output_type": "execute_result"
    }
   ],
   "source": [
    "np.array([1, 2, 3])*np.array([[1],[2], [3]]) "
   ]
  },
  {
   "cell_type": "code",
   "execution_count": 14,
   "id": "deb128a1-3d7e-4ec5-8357-c9c1ed76a127",
   "metadata": {},
   "outputs": [],
   "source": [
    "# nump code for ml from scrach "
   ]
  },
  {
   "cell_type": "code",
   "execution_count": 16,
   "id": "749a9667-de1a-4a10-b2ef-9f336a36e35b",
   "metadata": {},
   "outputs": [
    {
     "data": {
      "text/plain": [
       "array([17,  6, 15, 26, 39, 34, 38, 11, 21, 32,  9, 13, 30, 31, 29,  4, 37,\n",
       "       22, 10,  8, 36, 23,  3, 28, 16,  7, 33, 14,  1,  5, 12, 19, 25, 35,\n",
       "       20, 27, 18,  0,  2, 24])"
      ]
     },
     "execution_count": 16,
     "metadata": {},
     "output_type": "execute_result"
    }
   ],
   "source": [
    "np.random.permutation(40)"
   ]
  },
  {
   "cell_type": "code",
   "execution_count": 22,
   "id": "f28143e6-4177-4cb7-a3b0-f4009c68d60d",
   "metadata": {},
   "outputs": [
    {
     "data": {
      "text/plain": [
       "array([0., 0., 0., 0., 0.])"
      ]
     },
     "execution_count": 22,
     "metadata": {},
     "output_type": "execute_result"
    }
   ],
   "source": [
    "np.zeros(5)"
   ]
  },
  {
   "cell_type": "code",
   "execution_count": null,
   "id": "4fbe1eef-7296-461c-8cfa-9b47dbf704d5",
   "metadata": {},
   "outputs": [],
   "source": []
  }
 ],
 "metadata": {
  "kernelspec": {
   "display_name": "Python [conda env:base] *",
   "language": "python",
   "name": "conda-base-py"
  },
  "language_info": {
   "codemirror_mode": {
    "name": "ipython",
    "version": 3
   },
   "file_extension": ".py",
   "mimetype": "text/x-python",
   "name": "python",
   "nbconvert_exporter": "python",
   "pygments_lexer": "ipython3",
   "version": "3.12.7"
  }
 },
 "nbformat": 4,
 "nbformat_minor": 5
}
