!pwd


#Leetcode Past Apple questions 
def min_dist_pairs(arr): 
    arr.sort()
    min_dist = float('inf')
    for i in range(len(arr)-1):
        min_dist = min(min_dist, arr[i+1]- arr[i]) 
    a= []
    for i in range(len(arr)-1): 
        if arr[i+1]-arr[i]==min_dist: 
            a.append([arr[i+1], arr[i]])

    return a 
print(min_dist_pairs([1, 3, 4, 6, 10, 11]))



