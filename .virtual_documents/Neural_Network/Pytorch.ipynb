# prompt: import pytorch or install it first and import it

try:
  import torch
  print("PyTorch is already installed.")
except:
  print("PyTorch is not installed. Installing now.")
  !pip install torch torchvision torchaudio
  import torch
  print("PyTorch installed successfully.")


# prompt: print its version

torch.__version__


import torch
'''The output is a PyTorch tensor. It's a multi-dimensional array of numbers.
 In this case, it's a 3x45 tensor, meaning it has 3 rows and 45 columns,
  filled with random numbers between 0 and 1.'''
torch.rand(3, 45)



my_tensor = torch.tensor([[1, 2, 3], [3, 4, 5]], dtype= torch.float32)
my_tensor


import torch
print(torch.cuda.is_available())


my_tensor = torch.tensor([[1, 2, 3], [3, 4, 5]], dtype= torch.float32, device= "cuda", requires_grad=True)
my_tensor


my_tensor.device, my_tensor.shape


print("torch.ones((3,3))\n", torch.ones((3, 3)))
print("torch.eye((3,3))\n", torch.eye(3, 3))
print("torch.zeroes((3,3))\n", torch.zeros((3, 3)))
print("torch.rand((3,3))\n", torch.rand((3, 3)))
print("torch.empty((3,3))\n", torch.empty(size= (3, 3)))
print("torch.diag((3,3))\n", torch.diag(torch.ones(3)))


tensor = torch.arange(3)
print(tensor)
print(tensor.long())
print(tensor.half())
print(tensor.float())



import numpy as np
arr= np.zeros((1, 3))
tensor = torch.from_numpy(arr)
print(tensor)
back_to_np = tensor.numpy()
print(back_to_np)


x= torch.tensor([1, 2, 3])
y= torch.tensor([4, 5, 6])
z1= torch.empty(3)
torch.add(x, y, out= z1)
print(z1)
z2= torch.add(x, y)
print(z2)


print(x*y)
# dot will element-wise multiply and then add
print(torch.dot(x, y))


matrx = torch.rand(5, 5)
print(matrx)
print(matrx.matrix_power(3))





x= torch.arange(10)
x[(x<2) | (x>8)]
torch.where((x>5), x, x*2)


x= torch.rand((2, 4))
y = torch.rand((2, 4))
z= torch.cat((x, y), dim = 1)
z.shape


z.view(-1)


batch = 64
x = torch.rand((batch, 2, 5))
x.shape


x.view(batch , -1).shape


x.permute(0, 2 , 1).shape


x= torch.arange(10)
print(x.shape)
x.unsqueeze(0).shape


x.unsqueeze(1).shape


x.unsqueeze(0).unsqueeze(1).shape



